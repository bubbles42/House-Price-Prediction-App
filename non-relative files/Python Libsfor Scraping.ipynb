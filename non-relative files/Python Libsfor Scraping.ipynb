{
 "cells": [
  {
   "cell_type": "code",
   "execution_count": 2,
   "id": "404ae93f-bda8-42e9-be94-d3200dec827e",
   "metadata": {},
   "outputs": [
    {
     "data": {
      "text/plain": [
       "requests.models.Response"
      ]
     },
     "execution_count": 2,
     "metadata": {},
     "output_type": "execute_result"
    }
   ],
   "source": [
    "import requests\n",
    "url = 'https://www.codingdojo.com'\n",
    "response = requests.get(url)\n",
    "type(response)"
   ]
  },
  {
   "cell_type": "code",
   "execution_count": 3,
   "id": "b06e8396-0847-4219-81d9-82eda92f5c72",
   "metadata": {},
   "outputs": [
    {
     "data": {
      "text/plain": [
       "200"
      ]
     },
     "execution_count": 3,
     "metadata": {},
     "output_type": "execute_result"
    }
   ],
   "source": [
    "response.status_code"
   ]
  },
  {
   "cell_type": "code",
   "execution_count": 4,
   "id": "6445b00f-af90-4757-91d0-6d8bb56a3d91",
   "metadata": {},
   "outputs": [
    {
     "name": "stdout",
     "output_type": "stream",
     "text": [
      "Success!\n"
     ]
    }
   ],
   "source": [
    "if response.status_code == 200:\n",
    "    print(\"Success!\")\n",
    "else:\n",
    "    print(\"An error occurred.\")"
   ]
  },
  {
   "cell_type": "code",
   "execution_count": 5,
   "id": "681365e7-2193-429f-a24c-895e0a8b1eef",
   "metadata": {},
   "outputs": [
    {
     "data": {
      "text/plain": [
       "\"{'Date': 'Tue, 19 Mar 2024 23:58:28 GMT', 'Content-Type': 'text/html; charset=UTF-8', 'Transfer-Enco\""
      ]
     },
     "execution_count": 5,
     "metadata": {},
     "output_type": "execute_result"
    }
   ],
   "source": [
    "str(response.headers)[:100]"
   ]
  },
  {
   "cell_type": "code",
   "execution_count": 6,
   "id": "9f86411a-ee15-4141-8583-c00c10973d11",
   "metadata": {},
   "outputs": [
    {
     "data": {
      "text/plain": [
       "'https://www.codingdojo.com/'"
      ]
     },
     "execution_count": 6,
     "metadata": {},
     "output_type": "execute_result"
    }
   ],
   "source": [
    "response.url"
   ]
  },
  {
   "cell_type": "code",
   "execution_count": 7,
   "id": "7c05ac54-43a3-4770-958f-3c9b4a1d2c52",
   "metadata": {},
   "outputs": [
    {
     "data": {
      "text/plain": [
       "'UTF-8'"
      ]
     },
     "execution_count": 7,
     "metadata": {},
     "output_type": "execute_result"
    }
   ],
   "source": [
    "response.encoding"
   ]
  },
  {
   "cell_type": "code",
   "execution_count": 8,
   "id": "3bad3d7d-ed16-4042-900a-b9451a72ec13",
   "metadata": {},
   "outputs": [
    {
     "data": {
      "text/plain": [
       "b'<!DOCTYPE html>\\n<html lang=\"en\">\\n    <head>\\n        <title>Coding Dojo - Software Development Coding Bootcamp</title>\\n        <link rel=\"shortcut icon\" href=\"https://cutecdn.codingdojo.com/images/global/cd_profile_icon_favicon.ico\" type=\"image/x-icon\">\\n        <meta charset=\"utf-8\">\\n        <meta http-equiv=\"X-UA-Compatible\" content=\"IE=edge\">\\n        <meta name=\"viewport\" content=\"width=device-width, initial-scale=1 minimum-scale=1.0\">\\n        <meta name=\"description\" property=\"og:description\" '"
      ]
     },
     "execution_count": 8,
     "metadata": {},
     "output_type": "execute_result"
    }
   ],
   "source": [
    "response.content[:500]"
   ]
  },
  {
   "cell_type": "code",
   "execution_count": null,
   "id": "f96ef0a3-e6c4-4047-a42b-be718e03f552",
   "metadata": {},
   "outputs": [],
   "source": []
  }
 ],
 "metadata": {
  "kernelspec": {
   "display_name": "Python (dojo-env)",
   "language": "python",
   "name": "dojo-env"
  },
  "language_info": {
   "codemirror_mode": {
    "name": "ipython",
    "version": 3
   },
   "file_extension": ".py",
   "mimetype": "text/x-python",
   "name": "python",
   "nbconvert_exporter": "python",
   "pygments_lexer": "ipython3",
   "version": "3.10.11"
  },
  "widgets": {
   "application/vnd.jupyter.widget-state+json": {
    "state": {},
    "version_major": 2,
    "version_minor": 0
   }
  }
 },
 "nbformat": 4,
 "nbformat_minor": 5
}
