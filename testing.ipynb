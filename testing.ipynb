{
 "cells": [
  {
   "cell_type": "code",
   "execution_count": 1,
   "id": "82a39fe9-bf41-4fa0-a3f2-b178afd6643b",
   "metadata": {
    "scrolled": true
   },
   "outputs": [
    {
     "name": "stdout",
     "output_type": "stream",
     "text": [
      "Collecting dill\n",
      "  Obtaining dependency information for dill from https://files.pythonhosted.org/packages/c9/7a/cef76fd8438a42f96db64ddaa85280485a9c395e7df3db8158cfec1eee34/dill-0.3.8-py3-none-any.whl.metadata\n",
      "  Downloading dill-0.3.8-py3-none-any.whl.metadata (10 kB)\n",
      "Downloading dill-0.3.8-py3-none-any.whl (116 kB)\n",
      "   ---------------------------------------- 0.0/116.3 kB ? eta -:--:--\n",
      "   -------------- ------------------------- 41.0/116.3 kB 1.9 MB/s eta 0:00:01\n",
      "   ---------------------------------------- 116.3/116.3 kB 2.3 MB/s eta 0:00:00\n",
      "Installing collected packages: dill\n",
      "Successfully installed dill-0.3.8\n"
     ]
    }
   ],
   "source": [
    "!pip install dill"
   ]
  },
  {
   "cell_type": "code",
   "execution_count": 1,
   "id": "bcbad2d5-c533-4469-a0ba-6a37e70097c3",
   "metadata": {},
   "outputs": [],
   "source": [
    "import streamlit as st\n",
    "import pandas as pd\n",
    "import numpy as np\n",
    "import joblib, json, os, sys\n",
    "from lime.lime_tabular import LimeTabularExplainer\n",
    "from sklearn import set_config\n",
    "set_config(transform_output='pandas')"
   ]
  },
  {
   "cell_type": "code",
   "execution_count": 14,
   "id": "d9a3f4b1-cb77-4b6c-9ef5-3133a1006704",
   "metadata": {},
   "outputs": [
    {
     "data": {
      "text/plain": [
       "dict_keys(['data', 'models'])"
      ]
     },
     "execution_count": 14,
     "metadata": {},
     "output_type": "execute_result"
    }
   ],
   "source": [
    "import json\n",
    "with open ('config/filepaths.json') as f:\n",
    "    FPATHS = json.load(f)\n",
    "    \n",
    "FPATHS.keys()"
   ]
  },
  {
   "cell_type": "code",
   "execution_count": 15,
   "id": "008e1822-7b7c-44a4-b92b-033277d4dfc5",
   "metadata": {},
   "outputs": [
    {
     "data": {
      "text/plain": [
       "{'data': {'ml': {'train': 'data/part2-training-data.joblib',\n",
       "   'test': 'data/part2-test-data.joblib'}},\n",
       " 'models': {'linear_regression': 'models/part2-model-pipeline.joblib'}}"
      ]
     },
     "execution_count": 15,
     "metadata": {},
     "output_type": "execute_result"
    }
   ],
   "source": [
    "FPATHS"
   ]
  },
  {
   "cell_type": "code",
   "execution_count": 22,
   "id": "a724b00a-93fd-4396-9e0d-5527820f6cef",
   "metadata": {},
   "outputs": [],
   "source": [
    "def load_Xy_data(fpath):\n",
    "    return joblib.load(fpath)"
   ]
  },
  {
   "cell_type": "code",
   "execution_count": 23,
   "id": "65d0c924-70ef-4e25-b472-60564cff1a9b",
   "metadata": {},
   "outputs": [],
   "source": [
    "# Call function for train data\n",
    "X_train, y_train = load_Xy_data(fpath=FPATHS['data']['ml']['train'])\n",
    "# Call function for test data\n",
    "X_test, y_test = load_Xy_data(fpath=FPATHS['data']['ml']['test'])"
   ]
  },
  {
   "cell_type": "code",
   "execution_count": 24,
   "id": "6d006371-1463-417f-8b09-77f06a7e8a5d",
   "metadata": {},
   "outputs": [],
   "source": [
    "# Define function to load in model from dictionary with joblib\n",
    "def load_model_ml(fpath):\n",
    "    return joblib.load(fpath)"
   ]
  },
  {
   "cell_type": "code",
   "execution_count": 25,
   "id": "0f0cb984-20c8-4442-9ed8-d9d51314f3d8",
   "metadata": {},
   "outputs": [],
   "source": [
    "# Load model\n",
    "linreg = load_model_ml(fpath = FPATHS['models']['linear_regression'])"
   ]
  },
  {
   "cell_type": "code",
   "execution_count": 26,
   "id": "a613300d-fd1a-47df-bba9-c58437b3b63a",
   "metadata": {},
   "outputs": [
    {
     "data": {
      "text/plain": [
       "Index(['bathrooms', 'bedrooms', 'sqft_lot'], dtype='object')"
      ]
     },
     "execution_count": 26,
     "metadata": {},
     "output_type": "execute_result"
    }
   ],
   "source": [
    "X_train.columns"
   ]
  },
  {
   "cell_type": "code",
   "execution_count": 2,
   "id": "f78f7131-d3a3-4d28-a2d8-6550a71d9fac",
   "metadata": {},
   "outputs": [
    {
     "data": {
      "text/plain": [
       "'2.1.4'"
      ]
     },
     "execution_count": 2,
     "metadata": {},
     "output_type": "execute_result"
    }
   ],
   "source": [
    "pd.__version__"
   ]
  },
  {
   "cell_type": "code",
   "execution_count": 7,
   "id": "b53aec7d-0f5f-4980-8274-430839a36f4b",
   "metadata": {},
   "outputs": [
    {
     "name": "stdout",
     "output_type": "stream",
     "text": [
      "Collecting pandas==1.5.3\n",
      "  Obtaining dependency information for pandas==1.5.3 from https://files.pythonhosted.org/packages/d9/cd/f27c2992cbe05a3e39937f73a4be635a9ec149ec3ca4467d8cf039718994/pandas-1.5.3-cp310-cp310-win_amd64.whl.metadata\n",
      "  Downloading pandas-1.5.3-cp310-cp310-win_amd64.whl.metadata (12 kB)\n",
      "Requirement already satisfied: python-dateutil>=2.8.1 in c:\\users\\austi\\anaconda3\\envs\\dojo-env\\lib\\site-packages (from pandas==1.5.3) (2.8.2)\n",
      "Requirement already satisfied: pytz>=2020.1 in c:\\users\\austi\\anaconda3\\envs\\dojo-env\\lib\\site-packages (from pandas==1.5.3) (2022.7.1)\n",
      "Requirement already satisfied: numpy>=1.21.0 in c:\\users\\austi\\anaconda3\\envs\\dojo-env\\lib\\site-packages (from pandas==1.5.3) (1.23.4)\n",
      "Requirement already satisfied: six>=1.5 in c:\\users\\austi\\anaconda3\\envs\\dojo-env\\lib\\site-packages (from python-dateutil>=2.8.1->pandas==1.5.3) (1.16.0)\n",
      "Downloading pandas-1.5.3-cp310-cp310-win_amd64.whl (10.4 MB)\n",
      "   ---------------------------------------- 0.0/10.4 MB ? eta -:--:--\n",
      "   ---------------------------------------- 0.1/10.4 MB 1.6 MB/s eta 0:00:07\n",
      "   -- ------------------------------------- 0.7/10.4 MB 9.3 MB/s eta 0:00:02\n",
      "   ------- -------------------------------- 2.1/10.4 MB 16.5 MB/s eta 0:00:01\n",
      "   ------------ --------------------------- 3.1/10.4 MB 22.2 MB/s eta 0:00:01\n",
      "   ------------ --------------------------- 3.1/10.4 MB 22.2 MB/s eta 0:00:01\n",
      "   ---------------- ----------------------- 4.2/10.4 MB 16.7 MB/s eta 0:00:01\n",
      "   ---------------- ----------------------- 4.2/10.4 MB 16.7 MB/s eta 0:00:01\n",
      "   -------------------- ------------------- 5.2/10.4 MB 16.0 MB/s eta 0:00:01\n",
      "   ------------------------ --------------- 6.3/10.4 MB 15.5 MB/s eta 0:00:01\n",
      "   ---------------------------- ----------- 7.3/10.4 MB 18.0 MB/s eta 0:00:01\n",
      "   -------------------------------- ------- 8.4/10.4 MB 17.3 MB/s eta 0:00:01\n",
      "   -------------------------------- ------- 8.4/10.4 MB 17.3 MB/s eta 0:00:01\n",
      "   -------------------------------- ------- 8.4/10.4 MB 17.3 MB/s eta 0:00:01\n",
      "   -------------------------------- ------- 8.4/10.4 MB 17.3 MB/s eta 0:00:01\n",
      "   -------------------------------- ------- 8.4/10.4 MB 17.3 MB/s eta 0:00:01\n",
      "   -------------------------------- ------- 8.4/10.4 MB 17.3 MB/s eta 0:00:01\n",
      "   ---------------------------------------  10.4/10.4 MB 13.9 MB/s eta 0:00:01\n",
      "   ---------------------------------------- 10.4/10.4 MB 13.6 MB/s eta 0:00:00\n",
      "Installing collected packages: pandas\n",
      "  Attempting uninstall: pandas\n",
      "    Found existing installation: pandas 2.1.4\n",
      "    Uninstalling pandas-2.1.4:\n",
      "      Successfully uninstalled pandas-2.1.4\n",
      "Successfully installed pandas-1.5.3\n"
     ]
    }
   ],
   "source": [
    "!pip install pandas==1.5.3"
   ]
  },
  {
   "cell_type": "code",
   "execution_count": null,
   "id": "060758f0-bd8f-4228-b8f0-87fbe9cb1dfb",
   "metadata": {},
   "outputs": [],
   "source": []
  }
 ],
 "metadata": {
  "kernelspec": {
   "display_name": "Python (dojo-env)",
   "language": "python",
   "name": "dojo-env"
  },
  "language_info": {
   "codemirror_mode": {
    "name": "ipython",
    "version": 3
   },
   "file_extension": ".py",
   "mimetype": "text/x-python",
   "name": "python",
   "nbconvert_exporter": "python",
   "pygments_lexer": "ipython3",
   "version": "3.10.11"
  },
  "widgets": {
   "application/vnd.jupyter.widget-state+json": {
    "state": {},
    "version_major": 2,
    "version_minor": 0
   }
  }
 },
 "nbformat": 4,
 "nbformat_minor": 5
}
